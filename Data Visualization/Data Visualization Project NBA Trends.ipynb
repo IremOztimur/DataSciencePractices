{
 "cells": [
  {
   "cell_type": "markdown",
   "id": "6c07fde1",
   "metadata": {},
   "source": [
    "# Project: NBA Trends\n",
    "*Analyze National Basketball Association (NBA) data to look at associations between teams, win-rates, playoff appearances, and more.*"
   ]
  },
  {
   "cell_type": "code",
   "execution_count": 3,
   "id": "74400a94",
   "metadata": {},
   "outputs": [],
   "source": [
    "import pandas as pd\n",
    "import numpy as np\n",
    "from scipy.stats import pearsonr, chi2_contingency\n",
    "import matplotlib.pyplot as plt\n",
    "import seaborn as sns"
   ]
  },
  {
   "cell_type": "code",
   "execution_count": 5,
   "id": "c7d26b4a",
   "metadata": {},
   "outputs": [],
   "source": [
    "#to make the output look nicer\n",
    "np.set_printoptions(suppress=True, precision = 2)"
   ]
  },
  {
   "cell_type": "code",
   "execution_count": 7,
   "id": "1d524999",
   "metadata": {},
   "outputs": [
    {
     "data": {
      "text/html": [
       "<div>\n",
       "<style scoped>\n",
       "    .dataframe tbody tr th:only-of-type {\n",
       "        vertical-align: middle;\n",
       "    }\n",
       "\n",
       "    .dataframe tbody tr th {\n",
       "        vertical-align: top;\n",
       "    }\n",
       "\n",
       "    .dataframe thead th {\n",
       "        text-align: right;\n",
       "    }\n",
       "</style>\n",
       "<table border=\"1\" class=\"dataframe\">\n",
       "  <thead>\n",
       "    <tr style=\"text-align: right;\">\n",
       "      <th></th>\n",
       "      <th>game_id</th>\n",
       "      <th>year_id</th>\n",
       "      <th>fran_id</th>\n",
       "      <th>opp_fran</th>\n",
       "      <th>game_location</th>\n",
       "      <th>is_playoffs</th>\n",
       "      <th>pts</th>\n",
       "      <th>opp_pts</th>\n",
       "      <th>game_result</th>\n",
       "      <th>forecast</th>\n",
       "      <th>point_diff</th>\n",
       "    </tr>\n",
       "  </thead>\n",
       "  <tbody>\n",
       "    <tr>\n",
       "      <th>0</th>\n",
       "      <td>194611010TRH</td>\n",
       "      <td>1947</td>\n",
       "      <td>Knicks</td>\n",
       "      <td>Huskies</td>\n",
       "      <td>A</td>\n",
       "      <td>0</td>\n",
       "      <td>68</td>\n",
       "      <td>66</td>\n",
       "      <td>W</td>\n",
       "      <td>0.359935</td>\n",
       "      <td>2</td>\n",
       "    </tr>\n",
       "    <tr>\n",
       "      <th>1</th>\n",
       "      <td>194611020CHS</td>\n",
       "      <td>1947</td>\n",
       "      <td>Knicks</td>\n",
       "      <td>Stags</td>\n",
       "      <td>A</td>\n",
       "      <td>0</td>\n",
       "      <td>47</td>\n",
       "      <td>63</td>\n",
       "      <td>L</td>\n",
       "      <td>0.368899</td>\n",
       "      <td>-16</td>\n",
       "    </tr>\n",
       "    <tr>\n",
       "      <th>2</th>\n",
       "      <td>194611020PRO</td>\n",
       "      <td>1947</td>\n",
       "      <td>Celtics</td>\n",
       "      <td>Steamrollers</td>\n",
       "      <td>A</td>\n",
       "      <td>0</td>\n",
       "      <td>53</td>\n",
       "      <td>59</td>\n",
       "      <td>L</td>\n",
       "      <td>0.359935</td>\n",
       "      <td>-6</td>\n",
       "    </tr>\n",
       "    <tr>\n",
       "      <th>3</th>\n",
       "      <td>194611050BOS</td>\n",
       "      <td>1947</td>\n",
       "      <td>Celtics</td>\n",
       "      <td>Stags</td>\n",
       "      <td>H</td>\n",
       "      <td>0</td>\n",
       "      <td>55</td>\n",
       "      <td>57</td>\n",
       "      <td>L</td>\n",
       "      <td>0.620204</td>\n",
       "      <td>-2</td>\n",
       "    </tr>\n",
       "    <tr>\n",
       "      <th>4</th>\n",
       "      <td>194611070STB</td>\n",
       "      <td>1947</td>\n",
       "      <td>Knicks</td>\n",
       "      <td>Bombers</td>\n",
       "      <td>A</td>\n",
       "      <td>0</td>\n",
       "      <td>68</td>\n",
       "      <td>63</td>\n",
       "      <td>W</td>\n",
       "      <td>0.339290</td>\n",
       "      <td>5</td>\n",
       "    </tr>\n",
       "    <tr>\n",
       "      <th>...</th>\n",
       "      <td>...</td>\n",
       "      <td>...</td>\n",
       "      <td>...</td>\n",
       "      <td>...</td>\n",
       "      <td>...</td>\n",
       "      <td>...</td>\n",
       "      <td>...</td>\n",
       "      <td>...</td>\n",
       "      <td>...</td>\n",
       "      <td>...</td>\n",
       "      <td>...</td>\n",
       "    </tr>\n",
       "    <tr>\n",
       "      <th>95</th>\n",
       "      <td>194703010NYK</td>\n",
       "      <td>1947</td>\n",
       "      <td>Knicks</td>\n",
       "      <td>Huskies</td>\n",
       "      <td>H</td>\n",
       "      <td>0</td>\n",
       "      <td>63</td>\n",
       "      <td>48</td>\n",
       "      <td>W</td>\n",
       "      <td>0.663350</td>\n",
       "      <td>15</td>\n",
       "    </tr>\n",
       "    <tr>\n",
       "      <th>96</th>\n",
       "      <td>194703010WSC</td>\n",
       "      <td>1947</td>\n",
       "      <td>Celtics</td>\n",
       "      <td>Capitols</td>\n",
       "      <td>A</td>\n",
       "      <td>0</td>\n",
       "      <td>52</td>\n",
       "      <td>75</td>\n",
       "      <td>L</td>\n",
       "      <td>0.113992</td>\n",
       "      <td>-23</td>\n",
       "    </tr>\n",
       "    <tr>\n",
       "      <th>97</th>\n",
       "      <td>194703060BOS</td>\n",
       "      <td>1947</td>\n",
       "      <td>Celtics</td>\n",
       "      <td>Falcons</td>\n",
       "      <td>H</td>\n",
       "      <td>0</td>\n",
       "      <td>74</td>\n",
       "      <td>65</td>\n",
       "      <td>W</td>\n",
       "      <td>0.629405</td>\n",
       "      <td>9</td>\n",
       "    </tr>\n",
       "    <tr>\n",
       "      <th>98</th>\n",
       "      <td>194703060GSW</td>\n",
       "      <td>1947</td>\n",
       "      <td>Knicks</td>\n",
       "      <td>Warriors</td>\n",
       "      <td>A</td>\n",
       "      <td>0</td>\n",
       "      <td>61</td>\n",
       "      <td>59</td>\n",
       "      <td>W</td>\n",
       "      <td>0.252931</td>\n",
       "      <td>2</td>\n",
       "    </tr>\n",
       "    <tr>\n",
       "      <th>99</th>\n",
       "      <td>194703080BOS</td>\n",
       "      <td>1947</td>\n",
       "      <td>Celtics</td>\n",
       "      <td>Huskies</td>\n",
       "      <td>H</td>\n",
       "      <td>0</td>\n",
       "      <td>67</td>\n",
       "      <td>65</td>\n",
       "      <td>W</td>\n",
       "      <td>0.633714</td>\n",
       "      <td>2</td>\n",
       "    </tr>\n",
       "  </tbody>\n",
       "</table>\n",
       "<p>100 rows × 11 columns</p>\n",
       "</div>"
      ],
      "text/plain": [
       "         game_id  year_id  fran_id      opp_fran game_location  is_playoffs  \\\n",
       "0   194611010TRH     1947   Knicks       Huskies             A            0   \n",
       "1   194611020CHS     1947   Knicks         Stags             A            0   \n",
       "2   194611020PRO     1947  Celtics  Steamrollers             A            0   \n",
       "3   194611050BOS     1947  Celtics         Stags             H            0   \n",
       "4   194611070STB     1947   Knicks       Bombers             A            0   \n",
       "..           ...      ...      ...           ...           ...          ...   \n",
       "95  194703010NYK     1947   Knicks       Huskies             H            0   \n",
       "96  194703010WSC     1947  Celtics      Capitols             A            0   \n",
       "97  194703060BOS     1947  Celtics       Falcons             H            0   \n",
       "98  194703060GSW     1947   Knicks      Warriors             A            0   \n",
       "99  194703080BOS     1947  Celtics       Huskies             H            0   \n",
       "\n",
       "    pts  opp_pts game_result  forecast  point_diff  \n",
       "0    68       66           W  0.359935           2  \n",
       "1    47       63           L  0.368899         -16  \n",
       "2    53       59           L  0.359935          -6  \n",
       "3    55       57           L  0.620204          -2  \n",
       "4    68       63           W  0.339290           5  \n",
       "..  ...      ...         ...       ...         ...  \n",
       "95   63       48           W  0.663350          15  \n",
       "96   52       75           L  0.113992         -23  \n",
       "97   74       65           W  0.629405           9  \n",
       "98   61       59           W  0.252931           2  \n",
       "99   67       65           W  0.633714           2  \n",
       "\n",
       "[100 rows x 11 columns]"
      ]
     },
     "execution_count": 7,
     "metadata": {},
     "output_type": "execute_result"
    }
   ],
   "source": [
    "nba = pd.read_csv('nba_games.csv')\n",
    "nba.head(100)"
   ]
  },
  {
   "cell_type": "code",
   "execution_count": 11,
   "id": "d0729423",
   "metadata": {},
   "outputs": [],
   "source": [
    "# Subset Data to 2010 Season, 2014 Season\n",
    "nba_2010 = nba[nba.year_id == 2010]\n",
    "nba_2014 = nba[nba.year_id == 2014]"
   ]
  },
  {
   "cell_type": "code",
   "execution_count": 13,
   "id": "b0855ca8",
   "metadata": {},
   "outputs": [],
   "source": [
    "knicks_pts = nba_2010[nba_2010.fran_id == \"Knicks\"]\n",
    "nets_pts = nba_2010[nba_2010.fran_id == \"Nets\"]"
   ]
  },
  {
   "cell_type": "code",
   "execution_count": 14,
   "id": "1c37e769",
   "metadata": {},
   "outputs": [
    {
     "name": "stdout",
     "output_type": "stream",
     "text": [
      "The difference etween the two teams' avarage points scored is  9.73\n"
     ]
    }
   ],
   "source": [
    "knicks_mean = knicks_pts.pts.mean()\n",
    "nets_mean = nets_pts.pts.mean()\n",
    "diff_means_2010 = knicks_mean - nets_mean\n",
    "print(\"The difference etween the two teams' avarage points scored is \", round(diff_means_2010, 2))"
   ]
  },
  {
   "cell_type": "markdown",
   "id": "3f19caef",
   "metadata": {},
   "source": [
    "Q1: Based on this value, is fran_id and pts are associated? Why or why not?"
   ]
  },
  {
   "cell_type": "markdown",
   "id": "a6e87540",
   "metadata": {},
   "source": [
    "**Answer**: Based on this value it is hard to determine their relation. The difference is not extreme and obvious so there is no obvious association."
   ]
  },
  {
   "cell_type": "code",
   "execution_count": 16,
   "id": "2fc3c127",
   "metadata": {},
   "outputs": [
    {
     "data": {
      "image/png": "[encoded data removed]",
      "text/plain": [
       "<Figure size 640x480 with 1 Axes>"
      ]
     },
     "metadata": {},
     "output_type": "display_data"
    },
    {
     "data": {
      "text/plain": [
       "<Figure size 640x480 with 0 Axes>"
      ]
     },
     "metadata": {},
     "output_type": "display_data"
    }
   ],
   "source": [
    "plt.hist(knicks_pts.pts, label=\"Knicks\", alpha=0.6, density=True, color='red')\n",
    "plt.hist(nets_pts.pts, label=\"Nets\", alpha=0.6, density=True, color='yellow')\n",
    "plt.legend()\n",
    "plt.title(\"2010 Season\")\n",
    "plt.show()\n",
    "plt.clf()"
   ]
  },
  {
   "cell_type": "markdown",
   "id": "de296a64",
   "metadata": {},
   "source": [
    "Q2: Do the distributions appear to be the same?"
   ]
  },
  {
   "cell_type": "markdown",
   "id": "3141d8e7",
   "metadata": {},
   "source": [
    "**Answer**: The distribution seems quite different compared to their mean. They have different frequences compared with each other. They look associated"
   ]
  },
  {
   "cell_type": "code",
   "execution_count": 20,
   "id": "c4730e1d",
   "metadata": {},
   "outputs": [
    {
     "name": "stdout",
     "output_type": "stream",
     "text": [
      "0.44706798131809933\n"
     ]
    }
   ],
   "source": [
    "knicks_2014_pts = nba_2014[nba_2014.fran_id == 'Knicks'].pts\n",
    "nets_2014_pts = nba_2014[nba_2014.fran_id == 'Nets'].pts\n",
    "\n",
    "diff_means_2014 = knicks_2014_pts.mean() - nets_2014_pts.mean()\n",
    "print(diff_means_2014)"
   ]
  },
  {
   "cell_type": "markdown",
   "id": "afdf7695",
   "metadata": {},
   "source": [
    "Q3: Did the difference in points get larger or smaller in 2014?"
   ]
  },
  {
   "cell_type": "markdown",
   "id": "4e030cf5",
   "metadata": {},
   "source": [
    "**Answer**: The difference in points got smaller in 2014"
   ]
  },
  {
   "cell_type": "code",
   "execution_count": 23,
   "id": "204195da",
   "metadata": {},
   "outputs": [
    {
     "data": {
      "image/png": "[encoded data removed]",
      "text/plain": [
       "<Figure size 640x480 with 1 Axes>"
      ]
     },
     "metadata": {},
     "output_type": "display_data"
    },
    {
     "data": {
      "text/plain": [
       "<Figure size 640x480 with 0 Axes>"
      ]
     },
     "metadata": {},
     "output_type": "display_data"
    }
   ],
   "source": [
    "plt.hist(knicks_2014_pts, label='Knicks', alpha=.5, density=True, color='red')\n",
    "plt.hist(nets_2014_pts, label='Nets', alpha=.5, density=True, color='yellow')\n",
    "plt.legend()\n",
    "plt.title('2014 Season')\n",
    "plt.show()\n",
    "plt.clf()"
   ]
  },
  {
   "cell_type": "markdown",
   "id": "a0b15f3d",
   "metadata": {},
   "source": [
    "Q4: Does the mean difference you calculated make sense?"
   ]
  },
  {
   "cell_type": "markdown",
   "id": "00bb6f21",
   "metadata": {},
   "source": [
    "**Answer**: The histogram clearly shows that the difference between nets and knicks in 2014 season decreased. They have more overlapping histograms. In conclusion, the mean makes sense and they are not strongly associated."
   ]
  },
  {
   "cell_type": "markdown",
   "id": "bbac07e0",
   "metadata": {},
   "source": [
    "Let’s now include all teams in the dataset and investigate the relationship between franchise and points scored per game."
   ]
  },
  {
   "cell_type": "code",
   "execution_count": 25,
   "id": "13000768",
   "metadata": {},
   "outputs": [
    {
     "data": {
      "image/png": "[encoded data removed]",
      "text/plain": [
       "<Figure size 640x480 with 1 Axes>"
      ]
     },
     "metadata": {},
     "output_type": "display_data"
    },
    {
     "data": {
      "text/plain": [
       "<Figure size 640x480 with 0 Axes>"
      ]
     },
     "metadata": {},
     "output_type": "display_data"
    }
   ],
   "source": [
    "sns.boxplot(data=nba_2010, x='fran_id', y='pts')\n",
    "plt.show()\n",
    "plt.clf()"
   ]
  },
  {
   "cell_type": "markdown",
   "id": "b62150dd",
   "metadata": {},
   "source": [
    "**Conclusion**: This chart supports that fran_id and pts are associated. Especially, **Knicks** and **Nets** have an obvious association"
   ]
  },
  {
   "cell_type": "markdown",
   "id": "05994f30",
   "metadata": {},
   "source": [
    "Q5: Do teams tend to win more games at home compared to away ?"
   ]
  },
  {
   "cell_type": "code",
   "execution_count": 29,
   "id": "f592eec5",
   "metadata": {},
   "outputs": [
    {
     "name": "stdout",
     "output_type": "stream",
     "text": [
      "game_location    A    H\n",
      "game_result            \n",
      "L              133  105\n",
      "W               92  120\n"
     ]
    }
   ],
   "source": [
    "location_result_freq = pd.crosstab(nba_2010.game_result, nba_2010.game_location)\n",
    "print(location_result_freq)"
   ]
  },
  {
   "cell_type": "code",
   "execution_count": 31,
   "id": "f0635776",
   "metadata": {},
   "outputs": [
    {
     "name": "stdout",
     "output_type": "stream",
     "text": [
      "game_location         A         H\n",
      "game_result                      \n",
      "L              0.295556  0.233333\n",
      "W              0.204444  0.266667\n"
     ]
    }
   ],
   "source": [
    "location_result_proportions = location_result_freq / len(nba_2010)\n",
    "print(location_result_proportions)"
   ]
  },
  {
   "cell_type": "code",
   "execution_count": 33,
   "id": "4c58c2aa",
   "metadata": {},
   "outputs": [
    {
     "name": "stdout",
     "output_type": "stream",
     "text": [
      "Chi2 score is:  6.501704455367053\n",
      "[[119. 119.]\n",
      " [106. 106.]]\n"
     ]
    }
   ],
   "source": [
    "chi2, pval, dof, expected = chi2_contingency(location_result_freq)\n",
    "print(\"Chi2 score is: \",chi2)\n",
    "print(expected)"
   ]
  },
  {
   "cell_type": "markdown",
   "id": "d23a4e0b",
   "metadata": {},
   "source": [
    "**Conclusion**: Based on this output, there is an weak association with 6.5."
   ]
  },
  {
   "cell_type": "markdown",
   "id": "2c7ec488",
   "metadata": {},
   "source": [
    "**Deep Note**: *For a 2x2 table, Chi-squared greater than about 4 indicates an association.*"
   ]
  },
  {
   "cell_type": "markdown",
   "id": "7901ea66",
   "metadata": {},
   "source": [
    "Q6: Do teams with a higher probability of winning also tend to win games by more points ?"
   ]
  },
  {
   "cell_type": "code",
   "execution_count": 37,
   "id": "d040a536",
   "metadata": {},
   "outputs": [
    {
     "name": "stdout",
     "output_type": "stream",
     "text": [
      "Covarience is:  1.3746125676458794\n"
     ]
    }
   ],
   "source": [
    "nba_cov = np.cov(nba_2010.forecast, nba_2010.point_diff)\n",
    "print(\"Covarience is: \",nba_cov[0][1])"
   ]
  },
  {
   "cell_type": "code",
   "execution_count": 40,
   "id": "556dc35e",
   "metadata": {},
   "outputs": [
    {
     "name": "stdout",
     "output_type": "stream",
     "text": [
      "Correlation is:  0.4402088708468084\n"
     ]
    }
   ],
   "source": [
    "point_diff_forecast_corr, p = pearsonr(nba_2010.forecast, nba_2010.point_diff)\n",
    "print(\"Correlation is: \", point_diff_forecast_corr)"
   ]
  },
  {
   "cell_type": "code",
   "execution_count": 42,
   "id": "44092183",
   "metadata": {},
   "outputs": [
    {
     "data": {
      "image/png": "[encoded data removed]",
      "text/plain": [
       "<Figure size 640x480 with 1 Axes>"
      ]
     },
     "metadata": {},
     "output_type": "display_data"
    },
    {
     "data": {
      "text/plain": [
       "<Figure size 640x480 with 0 Axes>"
      ]
     },
     "metadata": {},
     "output_type": "display_data"
    }
   ],
   "source": [
    "plt.xlabel(\"forecast\")\n",
    "plt.ylabel(\"point difference\")\n",
    "plt.scatter(x=nba_2010.forecast, y=nba_2010.point_diff)\n",
    "plt.show()\n",
    "plt.clf()"
   ]
  },
  {
   "cell_type": "markdown",
   "id": "ba3fb9ed",
   "metadata": {},
   "source": [
    "**Answer**: There is a linear relation between the forecast and point difference"
   ]
  }
 ],
 "metadata": {
  "kernelspec": {
   "display_name": "Python 3 (ipykernel)",
   "language": "python",
   "name": "python3"
  },
  "language_info": {
   "codemirror_mode": {
    "name": "ipython",
    "version": 3
   },
   "file_extension": ".py",
   "mimetype": "text/x-python",
   "name": "python",
   "nbconvert_exporter": "python",
   "pygments_lexer": "ipython3",
   "version": "3.9.13"
  }
 },
 "nbformat": 4,
 "nbformat_minor": 5
}
