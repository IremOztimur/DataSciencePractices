{
 "cells": [
  {
   "cell_type": "markdown",
   "id": "54a0a492",
   "metadata": {},
   "source": [
    "## Currency Conversion Problem\n",
    "\n",
    "Over the years you have traveled to eight different countries and just happen to have leftover local currency from each of your trips. \n",
    "You are planning to return to one of the eight countries, but you aren't sure which one just yet. \n",
    "You are waiting to find out which will have the cheapest airfare. \n",
    "\n",
    "In preparation, for the trip you *will* want convert *all* your local currency into the currency local of the place you will be traveling to. \n",
    "Therefore, to double check the bank's conversion of your currency, you want to compute the total amount of currency you would expect for each of the eight countries. \n",
    "To compute the conversion you first need to import a matrix that contains the currency conversion rates for each of the eight countries. The data we will be use comes from the [Overview Matrix of Exchange Rates from Bloomberg Cross-Rates _Overall Chart_](https://www.bloomberg.com/markets/currencies/cross-rates) on January, 10 2018. "
   ]
  },
  {
   "cell_type": "markdown",
   "id": "af69f84e",
   "metadata": {},
   "source": [
    "<img src=\"currencyProbImage.png\" height=300 width=750>"
   ]
  },
  {
   "cell_type": "code",
   "execution_count": 1,
   "id": "0e3feaff",
   "metadata": {},
   "outputs": [
    {
     "name": "stdout",
     "output_type": "stream",
     "text": [
      "Inputs Vector:\n"
     ]
    },
    {
     "data": {
      "text/html": [
       "<div>\n",
       "<style scoped>\n",
       "    .dataframe tbody tr th:only-of-type {\n",
       "        vertical-align: middle;\n",
       "    }\n",
       "\n",
       "    .dataframe tbody tr th {\n",
       "        vertical-align: top;\n",
       "    }\n",
       "\n",
       "    .dataframe thead th {\n",
       "        text-align: right;\n",
       "    }\n",
       "</style>\n",
       "<table border=\"1\" class=\"dataframe\">\n",
       "  <thead>\n",
       "    <tr style=\"text-align: right;\">\n",
       "      <th></th>\n",
       "      <th>USD</th>\n",
       "      <th>EUR</th>\n",
       "      <th>JPY</th>\n",
       "      <th>GBP</th>\n",
       "      <th>CHF</th>\n",
       "      <th>CAD</th>\n",
       "      <th>AUD</th>\n",
       "      <th>HKD</th>\n",
       "    </tr>\n",
       "  </thead>\n",
       "  <tbody>\n",
       "    <tr>\n",
       "      <th>Amounts</th>\n",
       "      <td>70</td>\n",
       "      <td>100</td>\n",
       "      <td>20</td>\n",
       "      <td>80</td>\n",
       "      <td>40</td>\n",
       "      <td>70</td>\n",
       "      <td>60</td>\n",
       "      <td>100</td>\n",
       "    </tr>\n",
       "  </tbody>\n",
       "</table>\n",
       "</div>"
      ],
      "text/plain": [
       "         USD  EUR  JPY  GBP  CHF  CAD  AUD  HKD\n",
       "Amounts   70  100   20   80   40   70   60  100"
      ]
     },
     "execution_count": 1,
     "metadata": {},
     "output_type": "execute_result"
    }
   ],
   "source": [
    "import numpy as np\n",
    "import pandas as pd\n",
    "\n",
    "money = np.asarray([70, 100, 20, 80, 40, 70, 60, 100])\n",
    "\n",
    "currency_label = [\"USD\", \"EUR\", \"JPY\", \"GBP\", \"CHF\", \"CAD\", \"AUD\", \"HKD\"]\n",
    "money_df = pd.DataFrame(data=money, index=currency_label, columns=[\"Amounts\"])\n",
    "print(\"Inputs Vector:\")\n",
    "money_df.T"
   ]
  },
  {
   "cell_type": "code",
   "execution_count": 6,
   "id": "6c6b909b",
   "metadata": {},
   "outputs": [
    {
     "name": "stdout",
     "output_type": "stream",
     "text": [
      "Weights Matrix:\n"
     ]
    },
    {
     "data": {
      "text/html": [
       "<div>\n",
       "<style scoped>\n",
       "    .dataframe tbody tr th:only-of-type {\n",
       "        vertical-align: middle;\n",
       "    }\n",
       "\n",
       "    .dataframe tbody tr th {\n",
       "        vertical-align: top;\n",
       "    }\n",
       "\n",
       "    .dataframe thead th {\n",
       "        text-align: right;\n",
       "    }\n",
       "</style>\n",
       "<table border=\"1\" class=\"dataframe\">\n",
       "  <thead>\n",
       "    <tr style=\"text-align: right;\">\n",
       "      <th></th>\n",
       "      <th>USD</th>\n",
       "      <th>EUR</th>\n",
       "      <th>JPY</th>\n",
       "      <th>GBP</th>\n",
       "      <th>CHF</th>\n",
       "      <th>CAD</th>\n",
       "      <th>AUD</th>\n",
       "      <th>HKD</th>\n",
       "    </tr>\n",
       "  </thead>\n",
       "  <tbody>\n",
       "    <tr>\n",
       "      <th>USD-To</th>\n",
       "      <td>1.0000</td>\n",
       "      <td>0.8364</td>\n",
       "      <td>111.3700</td>\n",
       "      <td>0.7404</td>\n",
       "      <td>0.9781</td>\n",
       "      <td>1.2548</td>\n",
       "      <td>1.2760</td>\n",
       "      <td>7.8218</td>\n",
       "    </tr>\n",
       "    <tr>\n",
       "      <th>EUR-To</th>\n",
       "      <td>1.1956</td>\n",
       "      <td>1.0000</td>\n",
       "      <td>133.1540</td>\n",
       "      <td>0.8852</td>\n",
       "      <td>1.1694</td>\n",
       "      <td>1.5002</td>\n",
       "      <td>1.5256</td>\n",
       "      <td>9.3517</td>\n",
       "    </tr>\n",
       "    <tr>\n",
       "      <th>JPY-To</th>\n",
       "      <td>0.0090</td>\n",
       "      <td>0.0075</td>\n",
       "      <td>1.0000</td>\n",
       "      <td>0.0066</td>\n",
       "      <td>0.0088</td>\n",
       "      <td>0.0113</td>\n",
       "      <td>0.0115</td>\n",
       "      <td>0.0702</td>\n",
       "    </tr>\n",
       "    <tr>\n",
       "      <th>GBP-To</th>\n",
       "      <td>1.3507</td>\n",
       "      <td>1.1297</td>\n",
       "      <td>150.4275</td>\n",
       "      <td>1.0000</td>\n",
       "      <td>1.3211</td>\n",
       "      <td>1.6949</td>\n",
       "      <td>1.7235</td>\n",
       "      <td>10.5649</td>\n",
       "    </tr>\n",
       "    <tr>\n",
       "      <th>CHF-To</th>\n",
       "      <td>1.0224</td>\n",
       "      <td>0.8551</td>\n",
       "      <td>113.8636</td>\n",
       "      <td>0.7569</td>\n",
       "      <td>1.0000</td>\n",
       "      <td>1.2829</td>\n",
       "      <td>1.3046</td>\n",
       "      <td>7.9969</td>\n",
       "    </tr>\n",
       "    <tr>\n",
       "      <th>CAD-To</th>\n",
       "      <td>0.7969</td>\n",
       "      <td>0.6666</td>\n",
       "      <td>88.7552</td>\n",
       "      <td>0.5900</td>\n",
       "      <td>0.7795</td>\n",
       "      <td>1.0000</td>\n",
       "      <td>1.0169</td>\n",
       "      <td>6.2335</td>\n",
       "    </tr>\n",
       "    <tr>\n",
       "      <th>AUD-To</th>\n",
       "      <td>0.7837</td>\n",
       "      <td>0.6555</td>\n",
       "      <td>87.2807</td>\n",
       "      <td>0.5802</td>\n",
       "      <td>0.7665</td>\n",
       "      <td>0.9834</td>\n",
       "      <td>1.0000</td>\n",
       "      <td>6.1299</td>\n",
       "    </tr>\n",
       "    <tr>\n",
       "      <th>HKD-To</th>\n",
       "      <td>0.1278</td>\n",
       "      <td>0.1069</td>\n",
       "      <td>14.2384</td>\n",
       "      <td>0.0947</td>\n",
       "      <td>0.1250</td>\n",
       "      <td>0.1604</td>\n",
       "      <td>0.1631</td>\n",
       "      <td>1.0000</td>\n",
       "    </tr>\n",
       "  </tbody>\n",
       "</table>\n",
       "</div>"
      ],
      "text/plain": [
       "           USD     EUR       JPY     GBP     CHF     CAD     AUD      HKD\n",
       "USD-To  1.0000  0.8364  111.3700  0.7404  0.9781  1.2548  1.2760   7.8218\n",
       "EUR-To  1.1956  1.0000  133.1540  0.8852  1.1694  1.5002  1.5256   9.3517\n",
       "JPY-To  0.0090  0.0075    1.0000  0.0066  0.0088  0.0113  0.0115   0.0702\n",
       "GBP-To  1.3507  1.1297  150.4275  1.0000  1.3211  1.6949  1.7235  10.5649\n",
       "CHF-To  1.0224  0.8551  113.8636  0.7569  1.0000  1.2829  1.3046   7.9969\n",
       "CAD-To  0.7969  0.6666   88.7552  0.5900  0.7795  1.0000  1.0169   6.2335\n",
       "AUD-To  0.7837  0.6555   87.2807  0.5802  0.7665  0.9834  1.0000   6.1299\n",
       "HKD-To  0.1278  0.1069   14.2384  0.0947  0.1250  0.1604  0.1631   1.0000"
      ]
     },
     "execution_count": 6,
     "metadata": {},
     "output_type": "execute_result"
    }
   ],
   "source": [
    "path = %pwd\n",
    "\n",
    "conversion_rates_df = pd.read_csv(path+\"/currencyConversionMatrix.csv\",header=0,index_col=0)\n",
    "conversion_rates = conversion_rates_df.values\n",
    "\n",
    "print(\"Weights Matrix:\")\n",
    "conversion_rates_df"
   ]
  },
  {
   "cell_type": "markdown",
   "id": "ab69417c",
   "metadata": {},
   "source": [
    "Matrix multiplication, where the _**inputs** vector_($x_{1}...x_{n}$) multiplied by the _**weights** matrix_($w_{11}...w_{nm}$) to compute the _**outputs** vector_($y_{1}...y_{m}$). \n",
    "\n",
    "$\\hspace{4cm} \\begin{bmatrix} x_{1}&x_{2}&...&x_{n}\\end{bmatrix} \\begin{bmatrix} w_{11}&w_{12}&...&w_{1m}\\\\ w_{21}&w_{22}&...&w_{2m}\\\\ ...&...&...&... \\\\ w_{n1}&w_{n2}&...&w_{nm}\\end{bmatrix} = \\begin{bmatrix} y_{1}&y_{2}&...&y_{m}\\end{bmatrix}$ \n"
   ]
  },
  {
   "cell_type": "code",
   "execution_count": 7,
   "id": "782b9f29",
   "metadata": {},
   "outputs": [
    {
     "name": "stdout",
     "output_type": "stream",
     "text": [
      "Outputs Vector:\n"
     ]
    },
    {
     "data": {
      "text/html": [
       "<div>\n",
       "<style scoped>\n",
       "    .dataframe tbody tr th:only-of-type {\n",
       "        vertical-align: middle;\n",
       "    }\n",
       "\n",
       "    .dataframe tbody tr th {\n",
       "        vertical-align: top;\n",
       "    }\n",
       "\n",
       "    .dataframe thead th {\n",
       "        text-align: right;\n",
       "    }\n",
       "</style>\n",
       "<table border=\"1\" class=\"dataframe\">\n",
       "  <thead>\n",
       "    <tr style=\"text-align: right;\">\n",
       "      <th></th>\n",
       "      <th>USD</th>\n",
       "      <th>EUR</th>\n",
       "      <th>JPY</th>\n",
       "      <th>GBP</th>\n",
       "      <th>CHF</th>\n",
       "      <th>CAD</th>\n",
       "      <th>AUD</th>\n",
       "      <th>HKD</th>\n",
       "    </tr>\n",
       "  </thead>\n",
       "  <tbody>\n",
       "    <tr>\n",
       "      <th>Money Totals</th>\n",
       "      <td>454.277</td>\n",
       "      <td>379.96</td>\n",
       "      <td>50593.59</td>\n",
       "      <td>336.338</td>\n",
       "      <td>444.326</td>\n",
       "      <td>570.034</td>\n",
       "      <td>579.667</td>\n",
       "      <td>3553.307</td>\n",
       "    </tr>\n",
       "  </tbody>\n",
       "</table>\n",
       "</div>"
      ],
      "text/plain": [
       "                  USD     EUR       JPY      GBP      CHF      CAD      AUD  \\\n",
       "Money Totals  454.277  379.96  50593.59  336.338  444.326  570.034  579.667   \n",
       "\n",
       "                   HKD  \n",
       "Money Totals  3553.307  "
      ]
     },
     "execution_count": 7,
     "metadata": {},
     "output_type": "execute_result"
    }
   ],
   "source": [
    "money_totals = np.matmul(money, conversion_rates)\n",
    "\n",
    "money_totals_df = pd.DataFrame(data = money_totals, index = currency_label, columns = [\"Money Totals\"])\n",
    "print(\"Outputs Vector:\")\n",
    "money_totals_df.T"
   ]
  }
 ],
 "metadata": {
  "kernelspec": {
   "display_name": "Python 3 (ipykernel)",
   "language": "python",
   "name": "python3"
  },
  "language_info": {
   "codemirror_mode": {
    "name": "ipython",
    "version": 3
   },
   "file_extension": ".py",
   "mimetype": "text/x-python",
   "name": "python",
   "nbconvert_exporter": "python",
   "pygments_lexer": "ipython3",
   "version": "3.9.13"
  }
 },
 "nbformat": 4,
 "nbformat_minor": 5
}
